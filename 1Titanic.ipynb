{
 "cells": [
  {
   "cell_type": "code",
   "execution_count": 1,
   "id": "cb75a523-049d-45b5-9ac7-d255336044ff",
   "metadata": {},
   "outputs": [],
   "source": [
    "import numpy as np"
   ]
  },
  {
   "cell_type": "code",
   "execution_count": 2,
   "id": "e25eb54d-1721-4fe9-afa7-8f5f622ff442",
   "metadata": {},
   "outputs": [],
   "source": [
    "import pandas as pd"
   ]
  },
  {
   "cell_type": "code",
   "execution_count": 3,
   "id": "2825926a-c582-4a17-800b-67a5506dad50",
   "metadata": {},
   "outputs": [],
   "source": [
    "import matplotlib.pyplot as plt"
   ]
  },
  {
   "cell_type": "code",
   "execution_count": 4,
   "id": "73eb5e20-6e70-4859-9fc3-504d270e9d3f",
   "metadata": {},
   "outputs": [],
   "source": [
    "import seaborn as sns"
   ]
  },
  {
   "cell_type": "code",
   "execution_count": 5,
   "id": "91abf2d9-0233-4ecd-b463-24d821354d94",
   "metadata": {},
   "outputs": [
    {
     "data": {
      "text/html": [
       "<div>\n",
       "<style scoped>\n",
       "    .dataframe tbody tr th:only-of-type {\n",
       "        vertical-align: middle;\n",
       "    }\n",
       "\n",
       "    .dataframe tbody tr th {\n",
       "        vertical-align: top;\n",
       "    }\n",
       "\n",
       "    .dataframe thead th {\n",
       "        text-align: right;\n",
       "    }\n",
       "</style>\n",
       "<table border=\"1\" class=\"dataframe\">\n",
       "  <thead>\n",
       "    <tr style=\"text-align: right;\">\n",
       "      <th></th>\n",
       "      <th>PassengerId</th>\n",
       "      <th>Survived</th>\n",
       "      <th>Pclass</th>\n",
       "      <th>Name</th>\n",
       "      <th>Sex</th>\n",
       "      <th>Age</th>\n",
       "      <th>SibSp</th>\n",
       "      <th>Parch</th>\n",
       "      <th>Ticket</th>\n",
       "      <th>Fare</th>\n",
       "      <th>Cabin</th>\n",
       "      <th>Embarked</th>\n",
       "    </tr>\n",
       "  </thead>\n",
       "  <tbody>\n",
       "    <tr>\n",
       "      <th>0</th>\n",
       "      <td>1</td>\n",
       "      <td>0</td>\n",
       "      <td>3</td>\n",
       "      <td>Braund, Mr. Owen Harris</td>\n",
       "      <td>male</td>\n",
       "      <td>22.0</td>\n",
       "      <td>1</td>\n",
       "      <td>0</td>\n",
       "      <td>A/5 21171</td>\n",
       "      <td>7.2500</td>\n",
       "      <td>NaN</td>\n",
       "      <td>S</td>\n",
       "    </tr>\n",
       "    <tr>\n",
       "      <th>1</th>\n",
       "      <td>2</td>\n",
       "      <td>1</td>\n",
       "      <td>1</td>\n",
       "      <td>Cumings, Mrs. John Bradley (Florence Briggs Th...</td>\n",
       "      <td>female</td>\n",
       "      <td>38.0</td>\n",
       "      <td>1</td>\n",
       "      <td>0</td>\n",
       "      <td>PC 17599</td>\n",
       "      <td>71.2833</td>\n",
       "      <td>C85</td>\n",
       "      <td>C</td>\n",
       "    </tr>\n",
       "    <tr>\n",
       "      <th>2</th>\n",
       "      <td>3</td>\n",
       "      <td>1</td>\n",
       "      <td>3</td>\n",
       "      <td>Heikkinen, Miss. Laina</td>\n",
       "      <td>female</td>\n",
       "      <td>26.0</td>\n",
       "      <td>0</td>\n",
       "      <td>0</td>\n",
       "      <td>STON/O2. 3101282</td>\n",
       "      <td>7.9250</td>\n",
       "      <td>NaN</td>\n",
       "      <td>S</td>\n",
       "    </tr>\n",
       "    <tr>\n",
       "      <th>3</th>\n",
       "      <td>4</td>\n",
       "      <td>1</td>\n",
       "      <td>1</td>\n",
       "      <td>Futrelle, Mrs. Jacques Heath (Lily May Peel)</td>\n",
       "      <td>female</td>\n",
       "      <td>35.0</td>\n",
       "      <td>1</td>\n",
       "      <td>0</td>\n",
       "      <td>113803</td>\n",
       "      <td>53.1000</td>\n",
       "      <td>C123</td>\n",
       "      <td>S</td>\n",
       "    </tr>\n",
       "    <tr>\n",
       "      <th>4</th>\n",
       "      <td>5</td>\n",
       "      <td>0</td>\n",
       "      <td>3</td>\n",
       "      <td>Allen, Mr. William Henry</td>\n",
       "      <td>male</td>\n",
       "      <td>35.0</td>\n",
       "      <td>0</td>\n",
       "      <td>0</td>\n",
       "      <td>373450</td>\n",
       "      <td>8.0500</td>\n",
       "      <td>NaN</td>\n",
       "      <td>S</td>\n",
       "    </tr>\n",
       "  </tbody>\n",
       "</table>\n",
       "</div>"
      ],
      "text/plain": [
       "   PassengerId  Survived  Pclass  \\\n",
       "0            1         0       3   \n",
       "1            2         1       1   \n",
       "2            3         1       3   \n",
       "3            4         1       1   \n",
       "4            5         0       3   \n",
       "\n",
       "                                                Name     Sex   Age  SibSp  \\\n",
       "0                            Braund, Mr. Owen Harris    male  22.0      1   \n",
       "1  Cumings, Mrs. John Bradley (Florence Briggs Th...  female  38.0      1   \n",
       "2                             Heikkinen, Miss. Laina  female  26.0      0   \n",
       "3       Futrelle, Mrs. Jacques Heath (Lily May Peel)  female  35.0      1   \n",
       "4                           Allen, Mr. William Henry    male  35.0      0   \n",
       "\n",
       "   Parch            Ticket     Fare Cabin Embarked  \n",
       "0      0         A/5 21171   7.2500   NaN        S  \n",
       "1      0          PC 17599  71.2833   C85        C  \n",
       "2      0  STON/O2. 3101282   7.9250   NaN        S  \n",
       "3      0            113803  53.1000  C123        S  \n",
       "4      0            373450   8.0500   NaN        S  "
      ]
     },
     "execution_count": 5,
     "metadata": {},
     "output_type": "execute_result"
    }
   ],
   "source": [
    "train = pd.read_csv('train.csv')\n",
    "test = pd.read_csv('test.csv')\n",
    "train.head()"
   ]
  },
  {
   "cell_type": "code",
   "execution_count": 6,
   "id": "6cd1f9ea-f1b2-4fda-a456-9a6f7a3acf54",
   "metadata": {},
   "outputs": [
    {
     "data": {
      "text/plain": [
       "(891, 12)"
      ]
     },
     "execution_count": 6,
     "metadata": {},
     "output_type": "execute_result"
    }
   ],
   "source": [
    "train.shape"
   ]
  },
  {
   "cell_type": "code",
   "execution_count": 7,
   "id": "175956af-8006-430d-ad83-e3375f6b9b6c",
   "metadata": {},
   "outputs": [
    {
     "data": {
      "text/plain": [
       "(418, 11)"
      ]
     },
     "execution_count": 7,
     "metadata": {},
     "output_type": "execute_result"
    }
   ],
   "source": [
    "test.shape"
   ]
  },
  {
   "cell_type": "markdown",
   "id": "bed9ab0b-34f7-4780-8f55-ae2314c95b88",
   "metadata": {
    "tags": []
   },
   "source": [
    "## Missing value\n",
    "Info method gives all the details about columns, therefore we can identify how many missing value persent in the intire entries. \n"
   ]
  },
  {
   "cell_type": "code",
   "execution_count": 8,
   "id": "3fb409c5-3a6c-4b41-900c-7949e178dd2e",
   "metadata": {},
   "outputs": [
    {
     "name": "stdout",
     "output_type": "stream",
     "text": [
      "<class 'pandas.core.frame.DataFrame'>\n",
      "RangeIndex: 891 entries, 0 to 890\n",
      "Data columns (total 12 columns):\n",
      " #   Column       Non-Null Count  Dtype  \n",
      "---  ------       --------------  -----  \n",
      " 0   PassengerId  891 non-null    int64  \n",
      " 1   Survived     891 non-null    int64  \n",
      " 2   Pclass       891 non-null    int64  \n",
      " 3   Name         891 non-null    object \n",
      " 4   Sex          891 non-null    object \n",
      " 5   Age          714 non-null    float64\n",
      " 6   SibSp        891 non-null    int64  \n",
      " 7   Parch        891 non-null    int64  \n",
      " 8   Ticket       891 non-null    object \n",
      " 9   Fare         891 non-null    float64\n",
      " 10  Cabin        204 non-null    object \n",
      " 11  Embarked     889 non-null    object \n",
      "dtypes: float64(2), int64(5), object(5)\n",
      "memory usage: 83.7+ KB\n"
     ]
    }
   ],
   "source": [
    "train.info() \n"
   ]
  },
  {
   "cell_type": "code",
   "execution_count": 9,
   "id": "57b50dd3-4a41-4a30-8cb0-d23d6a3426e7",
   "metadata": {},
   "outputs": [
    {
     "name": "stdout",
     "output_type": "stream",
     "text": [
      "<class 'pandas.core.frame.DataFrame'>\n",
      "RangeIndex: 418 entries, 0 to 417\n",
      "Data columns (total 11 columns):\n",
      " #   Column       Non-Null Count  Dtype  \n",
      "---  ------       --------------  -----  \n",
      " 0   PassengerId  418 non-null    int64  \n",
      " 1   Pclass       418 non-null    int64  \n",
      " 2   Name         418 non-null    object \n",
      " 3   Sex          418 non-null    object \n",
      " 4   Age          332 non-null    float64\n",
      " 5   SibSp        418 non-null    int64  \n",
      " 6   Parch        418 non-null    int64  \n",
      " 7   Ticket       418 non-null    object \n",
      " 8   Fare         417 non-null    float64\n",
      " 9   Cabin        91 non-null     object \n",
      " 10  Embarked     418 non-null    object \n",
      "dtypes: float64(2), int64(4), object(5)\n",
      "memory usage: 36.0+ KB\n"
     ]
    }
   ],
   "source": [
    "test.info()"
   ]
  },
  {
   "cell_type": "code",
   "execution_count": 10,
   "id": "5d6538e3-2a97-4350-a8aa-f86b4483a40e",
   "metadata": {},
   "outputs": [],
   "source": [
    "# Here we see in the train dataset in Cabine column there is only 204 non-null value persent in the 891 total entries. "
   ]
  },
  {
   "cell_type": "code",
   "execution_count": 11,
   "id": "fb9463a7-d032-445c-b9cf-e8c725be1e09",
   "metadata": {},
   "outputs": [],
   "source": [
    "#Therefore we can drop these column"
   ]
  },
  {
   "cell_type": "code",
   "execution_count": 12,
   "id": "9181ca15-3e87-4ac5-9e01-4891603b0c8d",
   "metadata": {},
   "outputs": [],
   "source": [
    "#train.drop([columns='Cabine']) #Since it not permanant operation therefore we use inplace==true"
   ]
  },
  {
   "cell_type": "code",
   "execution_count": 13,
   "id": "bc44cd2e-2f35-453d-b10d-1544b93cdd80",
   "metadata": {},
   "outputs": [],
   "source": [
    "train.drop(columns=['Cabin'], inplace=True)"
   ]
  },
  {
   "cell_type": "code",
   "execution_count": 14,
   "id": "45c011d0-9229-48c6-9d58-d77d962d3656",
   "metadata": {},
   "outputs": [],
   "source": [
    "test.drop(columns=['Cabin'], inplace=True)"
   ]
  },
  {
   "cell_type": "code",
   "execution_count": 15,
   "id": "dbec2053-588b-4826-9f8f-6c181ec73920",
   "metadata": {},
   "outputs": [
    {
     "data": {
      "text/html": [
       "<div>\n",
       "<style scoped>\n",
       "    .dataframe tbody tr th:only-of-type {\n",
       "        vertical-align: middle;\n",
       "    }\n",
       "\n",
       "    .dataframe tbody tr th {\n",
       "        vertical-align: top;\n",
       "    }\n",
       "\n",
       "    .dataframe thead th {\n",
       "        text-align: right;\n",
       "    }\n",
       "</style>\n",
       "<table border=\"1\" class=\"dataframe\">\n",
       "  <thead>\n",
       "    <tr style=\"text-align: right;\">\n",
       "      <th></th>\n",
       "      <th>PassengerId</th>\n",
       "      <th>Survived</th>\n",
       "      <th>Pclass</th>\n",
       "      <th>Name</th>\n",
       "      <th>Sex</th>\n",
       "      <th>Age</th>\n",
       "      <th>SibSp</th>\n",
       "      <th>Parch</th>\n",
       "      <th>Ticket</th>\n",
       "      <th>Fare</th>\n",
       "      <th>Embarked</th>\n",
       "    </tr>\n",
       "  </thead>\n",
       "  <tbody>\n",
       "    <tr>\n",
       "      <th>0</th>\n",
       "      <td>False</td>\n",
       "      <td>False</td>\n",
       "      <td>False</td>\n",
       "      <td>False</td>\n",
       "      <td>False</td>\n",
       "      <td>False</td>\n",
       "      <td>False</td>\n",
       "      <td>False</td>\n",
       "      <td>False</td>\n",
       "      <td>False</td>\n",
       "      <td>False</td>\n",
       "    </tr>\n",
       "    <tr>\n",
       "      <th>1</th>\n",
       "      <td>False</td>\n",
       "      <td>False</td>\n",
       "      <td>False</td>\n",
       "      <td>False</td>\n",
       "      <td>False</td>\n",
       "      <td>False</td>\n",
       "      <td>False</td>\n",
       "      <td>False</td>\n",
       "      <td>False</td>\n",
       "      <td>False</td>\n",
       "      <td>False</td>\n",
       "    </tr>\n",
       "    <tr>\n",
       "      <th>2</th>\n",
       "      <td>False</td>\n",
       "      <td>False</td>\n",
       "      <td>False</td>\n",
       "      <td>False</td>\n",
       "      <td>False</td>\n",
       "      <td>False</td>\n",
       "      <td>False</td>\n",
       "      <td>False</td>\n",
       "      <td>False</td>\n",
       "      <td>False</td>\n",
       "      <td>False</td>\n",
       "    </tr>\n",
       "    <tr>\n",
       "      <th>3</th>\n",
       "      <td>False</td>\n",
       "      <td>False</td>\n",
       "      <td>False</td>\n",
       "      <td>False</td>\n",
       "      <td>False</td>\n",
       "      <td>False</td>\n",
       "      <td>False</td>\n",
       "      <td>False</td>\n",
       "      <td>False</td>\n",
       "      <td>False</td>\n",
       "      <td>False</td>\n",
       "    </tr>\n",
       "    <tr>\n",
       "      <th>4</th>\n",
       "      <td>False</td>\n",
       "      <td>False</td>\n",
       "      <td>False</td>\n",
       "      <td>False</td>\n",
       "      <td>False</td>\n",
       "      <td>False</td>\n",
       "      <td>False</td>\n",
       "      <td>False</td>\n",
       "      <td>False</td>\n",
       "      <td>False</td>\n",
       "      <td>False</td>\n",
       "    </tr>\n",
       "    <tr>\n",
       "      <th>...</th>\n",
       "      <td>...</td>\n",
       "      <td>...</td>\n",
       "      <td>...</td>\n",
       "      <td>...</td>\n",
       "      <td>...</td>\n",
       "      <td>...</td>\n",
       "      <td>...</td>\n",
       "      <td>...</td>\n",
       "      <td>...</td>\n",
       "      <td>...</td>\n",
       "      <td>...</td>\n",
       "    </tr>\n",
       "    <tr>\n",
       "      <th>886</th>\n",
       "      <td>False</td>\n",
       "      <td>False</td>\n",
       "      <td>False</td>\n",
       "      <td>False</td>\n",
       "      <td>False</td>\n",
       "      <td>False</td>\n",
       "      <td>False</td>\n",
       "      <td>False</td>\n",
       "      <td>False</td>\n",
       "      <td>False</td>\n",
       "      <td>False</td>\n",
       "    </tr>\n",
       "    <tr>\n",
       "      <th>887</th>\n",
       "      <td>False</td>\n",
       "      <td>False</td>\n",
       "      <td>False</td>\n",
       "      <td>False</td>\n",
       "      <td>False</td>\n",
       "      <td>False</td>\n",
       "      <td>False</td>\n",
       "      <td>False</td>\n",
       "      <td>False</td>\n",
       "      <td>False</td>\n",
       "      <td>False</td>\n",
       "    </tr>\n",
       "    <tr>\n",
       "      <th>888</th>\n",
       "      <td>False</td>\n",
       "      <td>False</td>\n",
       "      <td>False</td>\n",
       "      <td>False</td>\n",
       "      <td>False</td>\n",
       "      <td>True</td>\n",
       "      <td>False</td>\n",
       "      <td>False</td>\n",
       "      <td>False</td>\n",
       "      <td>False</td>\n",
       "      <td>False</td>\n",
       "    </tr>\n",
       "    <tr>\n",
       "      <th>889</th>\n",
       "      <td>False</td>\n",
       "      <td>False</td>\n",
       "      <td>False</td>\n",
       "      <td>False</td>\n",
       "      <td>False</td>\n",
       "      <td>False</td>\n",
       "      <td>False</td>\n",
       "      <td>False</td>\n",
       "      <td>False</td>\n",
       "      <td>False</td>\n",
       "      <td>False</td>\n",
       "    </tr>\n",
       "    <tr>\n",
       "      <th>890</th>\n",
       "      <td>False</td>\n",
       "      <td>False</td>\n",
       "      <td>False</td>\n",
       "      <td>False</td>\n",
       "      <td>False</td>\n",
       "      <td>False</td>\n",
       "      <td>False</td>\n",
       "      <td>False</td>\n",
       "      <td>False</td>\n",
       "      <td>False</td>\n",
       "      <td>False</td>\n",
       "    </tr>\n",
       "  </tbody>\n",
       "</table>\n",
       "<p>891 rows × 11 columns</p>\n",
       "</div>"
      ],
      "text/plain": [
       "     PassengerId  Survived  Pclass   Name    Sex    Age  SibSp  Parch  Ticket  \\\n",
       "0          False     False   False  False  False  False  False  False   False   \n",
       "1          False     False   False  False  False  False  False  False   False   \n",
       "2          False     False   False  False  False  False  False  False   False   \n",
       "3          False     False   False  False  False  False  False  False   False   \n",
       "4          False     False   False  False  False  False  False  False   False   \n",
       "..           ...       ...     ...    ...    ...    ...    ...    ...     ...   \n",
       "886        False     False   False  False  False  False  False  False   False   \n",
       "887        False     False   False  False  False  False  False  False   False   \n",
       "888        False     False   False  False  False   True  False  False   False   \n",
       "889        False     False   False  False  False  False  False  False   False   \n",
       "890        False     False   False  False  False  False  False  False   False   \n",
       "\n",
       "      Fare  Embarked  \n",
       "0    False     False  \n",
       "1    False     False  \n",
       "2    False     False  \n",
       "3    False     False  \n",
       "4    False     False  \n",
       "..     ...       ...  \n",
       "886  False     False  \n",
       "887  False     False  \n",
       "888  False     False  \n",
       "889  False     False  \n",
       "890  False     False  \n",
       "\n",
       "[891 rows x 11 columns]"
      ]
     },
     "execution_count": 15,
     "metadata": {},
     "output_type": "execute_result"
    }
   ],
   "source": [
    "train.isnull() # Gives boolian value True or false, If there is null value than gives Ture otherwise gives false"
   ]
  },
  {
   "cell_type": "code",
   "execution_count": 16,
   "id": "fa29ff4c-d9d3-4ef1-b33f-187f61e4f6f1",
   "metadata": {},
   "outputs": [],
   "source": [
    "# To see how many null value persent in the intire column we can write"
   ]
  },
  {
   "cell_type": "code",
   "execution_count": 17,
   "id": "0141b5ef-138b-4499-b2f8-7baa9c8d5ad3",
   "metadata": {},
   "outputs": [
    {
     "data": {
      "text/plain": [
       "PassengerId      0\n",
       "Survived         0\n",
       "Pclass           0\n",
       "Name             0\n",
       "Sex              0\n",
       "Age            177\n",
       "SibSp            0\n",
       "Parch            0\n",
       "Ticket           0\n",
       "Fare             0\n",
       "Embarked         2\n",
       "dtype: int64"
      ]
     },
     "execution_count": 17,
     "metadata": {},
     "output_type": "execute_result"
    }
   ],
   "source": [
    "train.isnull().sum()"
   ]
  },
  {
   "cell_type": "code",
   "execution_count": 18,
   "id": "741f8816-f769-4148-89e4-cb901f55208a",
   "metadata": {},
   "outputs": [
    {
     "data": {
      "text/plain": [
       "PassengerId     0\n",
       "Pclass          0\n",
       "Name            0\n",
       "Sex             0\n",
       "Age            86\n",
       "SibSp           0\n",
       "Parch           0\n",
       "Ticket          0\n",
       "Fare            1\n",
       "Embarked        0\n",
       "dtype: int64"
      ]
     },
     "execution_count": 18,
     "metadata": {},
     "output_type": "execute_result"
    }
   ],
   "source": [
    "test.isnull().sum()"
   ]
  },
  {
   "cell_type": "markdown",
   "id": "40601337-21e7-4041-8cb3-1cb33db313ab",
   "metadata": {},
   "source": [
    "# Identify which city passanger is traveling more"
   ]
  },
  {
   "cell_type": "code",
   "execution_count": 19,
   "id": "6f2d7266-51e0-429d-a340-4b235730534e",
   "metadata": {},
   "outputs": [
    {
     "data": {
      "text/plain": [
       "S    644\n",
       "C    168\n",
       "Q     77\n",
       "Name: Embarked, dtype: int64"
      ]
     },
     "execution_count": 19,
     "metadata": {},
     "output_type": "execute_result"
    }
   ],
   "source": [
    "train['Embarked'].value_counts()"
   ]
  },
  {
   "cell_type": "code",
   "execution_count": 20,
   "id": "be395658-cfd7-478c-aee1-115699fbc32c",
   "metadata": {},
   "outputs": [],
   "source": [
    "# Here we see more people are going to S ie 644 (Therefore We can fill the na or Misssing values with the S)"
   ]
  },
  {
   "cell_type": "code",
   "execution_count": 21,
   "id": "8f39056f-9cb1-476e-a4a2-f4cc0ec86ffb",
   "metadata": {},
   "outputs": [],
   "source": [
    "# We know there are 2 missing value in the Embarked Column. Replace the missing value with S"
   ]
  },
  {
   "cell_type": "code",
   "execution_count": 22,
   "id": "556fa679-f936-400a-9b68-47887db50be4",
   "metadata": {},
   "outputs": [
    {
     "data": {
      "text/plain": [
       "0      S\n",
       "1      C\n",
       "2      S\n",
       "3      S\n",
       "4      S\n",
       "      ..\n",
       "886    S\n",
       "887    S\n",
       "888    S\n",
       "889    C\n",
       "890    Q\n",
       "Name: Embarked, Length: 891, dtype: object"
      ]
     },
     "execution_count": 22,
     "metadata": {},
     "output_type": "execute_result"
    }
   ],
   "source": [
    "train['Embarked'].fillna('S')"
   ]
  },
  {
   "cell_type": "code",
   "execution_count": 23,
   "id": "ec42e011-e17e-45f7-be0a-8c7069788876",
   "metadata": {},
   "outputs": [],
   "source": [
    "#Since this is not permanant. For the permanant we can write inplace = True"
   ]
  },
  {
   "cell_type": "code",
   "execution_count": 24,
   "id": "36d18f64-8550-46e9-8328-32cbc49d574c",
   "metadata": {},
   "outputs": [],
   "source": [
    "train['Embarked'].fillna('S',inplace = True)"
   ]
  },
  {
   "cell_type": "code",
   "execution_count": 25,
   "id": "b59185e8-bd86-4bfc-8b82-7ba84ccb79f8",
   "metadata": {},
   "outputs": [
    {
     "data": {
      "text/plain": [
       "0      S\n",
       "1      C\n",
       "2      S\n",
       "3      S\n",
       "4      S\n",
       "      ..\n",
       "886    S\n",
       "887    S\n",
       "888    S\n",
       "889    C\n",
       "890    Q\n",
       "Name: Embarked, Length: 891, dtype: object"
      ]
     },
     "execution_count": 25,
     "metadata": {},
     "output_type": "execute_result"
    }
   ],
   "source": [
    "train['Embarked']"
   ]
  },
  {
   "cell_type": "code",
   "execution_count": 26,
   "id": "e3ebb052-426c-4e05-8b89-c5665251bae2",
   "metadata": {},
   "outputs": [
    {
     "data": {
      "text/plain": [
       "PassengerId      0\n",
       "Survived         0\n",
       "Pclass           0\n",
       "Name             0\n",
       "Sex              0\n",
       "Age            177\n",
       "SibSp            0\n",
       "Parch            0\n",
       "Ticket           0\n",
       "Fare             0\n",
       "Embarked         0\n",
       "dtype: int64"
      ]
     },
     "execution_count": 26,
     "metadata": {},
     "output_type": "execute_result"
    }
   ],
   "source": [
    "train.isnull().sum()   "
   ]
  },
  {
   "cell_type": "code",
   "execution_count": 27,
   "id": "a4d25447-c9c2-40cc-97cf-6b3c72fef215",
   "metadata": {},
   "outputs": [],
   "source": [
    " # Here we see there is no missing value in the Embarked column\n",
    "# But in the Age column 177 missing value persent"
   ]
  },
  {
   "cell_type": "code",
   "execution_count": 28,
   "id": "0d15dae6-d9e9-42e9-8e91-34ca761cc1e1",
   "metadata": {},
   "outputs": [],
   "source": [
    "#On the above test set we saw that 1 missing value was present in the Fare column.\n",
    "# Now handle this missing value by replacing mean value"
   ]
  },
  {
   "cell_type": "code",
   "execution_count": 29,
   "id": "f7fcdd65-7858-441b-9f7d-77c6da2341f0",
   "metadata": {},
   "outputs": [
    {
     "data": {
      "text/plain": [
       "PassengerId     0\n",
       "Pclass          0\n",
       "Name            0\n",
       "Sex             0\n",
       "Age            86\n",
       "SibSp           0\n",
       "Parch           0\n",
       "Ticket          0\n",
       "Fare            0\n",
       "Embarked        0\n",
       "dtype: int64"
      ]
     },
     "execution_count": 29,
     "metadata": {},
     "output_type": "execute_result"
    }
   ],
   "source": [
    "test['Fare'].fillna(test['Fare'].mean(), inplace = True)\n",
    "test.isnull().sum()"
   ]
  },
  {
   "cell_type": "code",
   "execution_count": 30,
   "id": "e26c559e-8a58-489f-80fd-bc3a8ba2c250",
   "metadata": {},
   "outputs": [
    {
     "data": {
      "text/plain": [
       "PassengerId      0\n",
       "Survived         0\n",
       "Pclass           0\n",
       "Name             0\n",
       "Sex              0\n",
       "Age            177\n",
       "SibSp            0\n",
       "Parch            0\n",
       "Ticket           0\n",
       "Fare             0\n",
       "Embarked         0\n",
       "dtype: int64"
      ]
     },
     "execution_count": 30,
     "metadata": {},
     "output_type": "execute_result"
    }
   ],
   "source": [
    "train.isnull().sum()"
   ]
  },
  {
   "cell_type": "code",
   "execution_count": 31,
   "id": "c4f399a5-ef62-4e2b-96fa-c9690d082cf6",
   "metadata": {},
   "outputs": [],
   "source": [
    "#Since 177 value misiing in age column in train dataset.\n",
    "# if we see the percentage "
   ]
  },
  {
   "cell_type": "code",
   "execution_count": 32,
   "id": "32846672-07a9-4d77-b6a6-f8c1f6aa6590",
   "metadata": {},
   "outputs": [
    {
     "data": {
      "text/plain": [
       "19.865319865319865"
      ]
     },
     "execution_count": 32,
     "metadata": {},
     "output_type": "execute_result"
    }
   ],
   "source": [
    "(177/891)*100"
   ]
  },
  {
   "cell_type": "code",
   "execution_count": 33,
   "id": "2a2c144d-f864-44f0-aa27-5874d62aebcd",
   "metadata": {},
   "outputs": [],
   "source": [
    "# Here we see 19% values are missing. If we delete the Age column in train dataset then we have to delete 19% rows. \n",
    "#If there are 1cr data find dely and remove  19% of data that is too much, Therefore we shouldn't remove it.\n",
    "# Then what we have to do\n",
    "#        Now generate 177 random value"
   ]
  },
  {
   "cell_type": "code",
   "execution_count": 34,
   "id": "d04dc7f7-8bb5-41ab-b30d-fc774447a976",
   "metadata": {},
   "outputs": [
    {
     "data": {
      "text/plain": [
       "array([25, 36, 18, 31, 36, 41, 40, 41, 16, 21, 26, 18, 42, 17, 30, 38, 28,\n",
       "       37, 43, 40, 19, 32, 38, 26, 34, 21, 42, 21, 31, 29, 34, 40, 24, 33,\n",
       "       36, 24, 24, 37, 24, 39, 33, 28, 22, 34, 24, 36, 40, 34, 22, 43, 19,\n",
       "       31, 38, 32, 23, 25, 17, 18, 34, 32, 17, 31, 22, 39, 40, 38, 41, 33,\n",
       "       24, 43, 16, 27, 37, 34, 21, 20, 42, 41, 34, 23, 28, 33, 38, 19, 25,\n",
       "       37, 28, 31, 41, 21, 30, 20, 23, 41, 33, 23, 28, 38, 19, 19, 18, 27,\n",
       "       33, 23, 41, 41, 22, 21, 35, 16, 34, 27, 42, 22, 40, 40, 19, 20, 21,\n",
       "       18, 38, 32, 17, 25, 19, 33, 26, 42, 25, 21, 36, 15, 32, 40, 20, 23,\n",
       "       36, 16, 34, 41, 42, 32, 36, 29, 27, 35, 40, 21, 31, 26, 20, 38, 18,\n",
       "       37, 31, 38, 38, 40, 19, 38, 20, 37, 29, 23, 41, 41, 29, 32, 42, 41,\n",
       "       43, 15, 23, 19, 35, 16, 39])"
      ]
     },
     "execution_count": 34,
     "metadata": {},
     "output_type": "execute_result"
    }
   ],
   "source": [
    "np.random.randint(train['Age'].mean()-train['Age'].std(),train['Age'].mean()+train['Age'].std(),177)"
   ]
  },
  {
   "cell_type": "code",
   "execution_count": 35,
   "id": "d0935469-60a5-4025-ab50-67303dcc2a07",
   "metadata": {},
   "outputs": [],
   "source": [
    "#Now store this value in train_age variable"
   ]
  },
  {
   "cell_type": "code",
   "execution_count": 36,
   "id": "4c6e9ccb-54cb-4c81-b01e-72e4454f46e0",
   "metadata": {},
   "outputs": [],
   "source": [
    "train_age=np.random.randint(train['Age'].mean()-train['Age'].std(),train['Age'].mean()+train['Age'].std(),177)"
   ]
  },
  {
   "cell_type": "code",
   "execution_count": 37,
   "id": "b1947cad-59a7-4c6c-8ba1-85e6fd4e28d3",
   "metadata": {},
   "outputs": [
    {
     "data": {
      "text/plain": [
       "array([23, 29, 42, 37, 18, 24, 41, 39, 23, 25, 18, 42, 33, 32, 15, 29, 22,\n",
       "       33, 32, 40, 16, 39, 30, 28, 15, 33, 23, 29, 21, 43, 26, 43, 32, 24,\n",
       "       20, 20, 18, 25, 42, 15, 15, 40, 42, 19, 24, 40, 21, 20, 38, 20, 18,\n",
       "       33, 28, 17, 18, 15, 33, 23, 33, 36, 28, 21, 26, 19, 23, 39, 37, 28,\n",
       "       23, 27, 30, 36, 32, 43, 27, 40, 22, 18, 22, 22, 32, 36, 27, 28, 15,\n",
       "       30, 29, 41, 36, 35, 31, 26, 42, 20, 38, 43, 31, 37, 40, 39, 32, 23,\n",
       "       16, 38, 25, 38, 38, 21, 26, 36, 38, 19, 20, 21, 26, 38, 37, 18, 22,\n",
       "       31, 25, 37, 30, 43, 41, 17, 41, 36, 31, 27, 25, 16, 17, 26, 27, 24,\n",
       "       21, 39, 23, 40, 19, 25, 28, 40, 23, 20, 43, 32, 28, 16, 18, 38, 43,\n",
       "       18, 42, 29, 43, 41, 37, 35, 35, 36, 42, 25, 36, 24, 33, 15, 33, 36,\n",
       "       23, 43, 28, 29, 22, 24, 35])"
      ]
     },
     "execution_count": 37,
     "metadata": {},
     "output_type": "execute_result"
    }
   ],
   "source": [
    "#train_age\n",
    "train_age"
   ]
  },
  {
   "cell_type": "code",
   "execution_count": 38,
   "id": "72277e40-17d1-4517-955b-262238813905",
   "metadata": {},
   "outputs": [],
   "source": [
    "# Similarlly do the same with the test dataset"
   ]
  },
  {
   "cell_type": "code",
   "execution_count": 39,
   "id": "88e54264-b525-4e5e-ad64-440646b5d138",
   "metadata": {},
   "outputs": [],
   "source": [
    "test_age=np.random.randint(test['Age'].mean()-train['Age'].std(),test['Age'].mean()+train['Age'].std(),86)"
   ]
  },
  {
   "cell_type": "code",
   "execution_count": 40,
   "id": "ea6c5149-6f63-4277-9db7-632556406ade",
   "metadata": {},
   "outputs": [
    {
     "data": {
      "text/plain": [
       "array([27, 20, 25, 28, 35, 23, 16, 40, 39, 42, 20, 23, 18, 17, 35, 20, 30,\n",
       "       43, 19, 17, 39, 39, 23, 23, 21, 15, 24, 34, 17, 43, 21, 40, 28, 34,\n",
       "       17, 23, 16, 24, 17, 28, 35, 15, 42, 40, 29, 18, 27, 25, 25, 34, 19,\n",
       "       38, 23, 42, 22, 15, 19, 31, 35, 40, 21, 19, 16, 29, 33, 20, 39, 29,\n",
       "       15, 36, 23, 26, 24, 30, 27, 26, 16, 29, 42, 27, 29, 40, 29, 21, 28,\n",
       "       41])"
      ]
     },
     "execution_count": 40,
     "metadata": {},
     "output_type": "execute_result"
    }
   ],
   "source": [
    "test_age"
   ]
  },
  {
   "cell_type": "code",
   "execution_count": 41,
   "id": "a5556ec5-adf4-4617-809c-559c61ab4746",
   "metadata": {},
   "outputs": [],
   "source": [
    "# Now see the null value in Age column in train data set"
   ]
  },
  {
   "cell_type": "code",
   "execution_count": 42,
   "id": "88b3baa0-9b17-45aa-bb79-6a98f180563f",
   "metadata": {},
   "outputs": [
    {
     "data": {
      "text/plain": [
       "0      False\n",
       "1      False\n",
       "2      False\n",
       "3      False\n",
       "4      False\n",
       "       ...  \n",
       "886    False\n",
       "887    False\n",
       "888     True\n",
       "889    False\n",
       "890    False\n",
       "Name: Age, Length: 891, dtype: bool"
      ]
     },
     "execution_count": 42,
     "metadata": {},
     "output_type": "execute_result"
    }
   ],
   "source": [
    "train['Age'].isnull() "
   ]
  },
  {
   "cell_type": "code",
   "execution_count": 43,
   "id": "298aefb3-6fd2-4168-89c6-279b10f09f17",
   "metadata": {},
   "outputs": [
    {
     "data": {
      "text/plain": [
       "(891,)"
      ]
     },
     "execution_count": 43,
     "metadata": {},
     "output_type": "execute_result"
    }
   ],
   "source": [
    "train['Age'].shape"
   ]
  },
  {
   "cell_type": "code",
   "execution_count": 44,
   "id": "9ae8d025-76ef-4ad3-95d3-a7ee7023b2be",
   "metadata": {},
   "outputs": [],
   "source": [
    "#Here we see 891 rows but we need 177 rows\n",
    "# We can do this by mapping"
   ]
  },
  {
   "cell_type": "code",
   "execution_count": 45,
   "id": "7c2c9e2f-0c6c-46d7-a18a-9724d6b28cba",
   "metadata": {},
   "outputs": [
    {
     "data": {
      "text/plain": [
       "5     NaN\n",
       "17    NaN\n",
       "19    NaN\n",
       "26    NaN\n",
       "28    NaN\n",
       "       ..\n",
       "859   NaN\n",
       "863   NaN\n",
       "868   NaN\n",
       "878   NaN\n",
       "888   NaN\n",
       "Name: Age, Length: 177, dtype: float64"
      ]
     },
     "execution_count": 45,
     "metadata": {},
     "output_type": "execute_result"
    }
   ],
   "source": [
    "train['Age'][train['Age'].isnull()]"
   ]
  },
  {
   "cell_type": "code",
   "execution_count": 46,
   "id": "418789b2-0ed6-467e-b6f8-24643f75af43",
   "metadata": {},
   "outputs": [
    {
     "data": {
      "text/plain": [
       "(177,)"
      ]
     },
     "execution_count": 46,
     "metadata": {},
     "output_type": "execute_result"
    }
   ],
   "source": [
    "train['Age'][train['Age'].isnull()].shape"
   ]
  },
  {
   "cell_type": "code",
   "execution_count": 47,
   "id": "cd03c106-6e49-4a8f-bb8b-4c8b8d5c4fbb",
   "metadata": {},
   "outputs": [],
   "source": [
    "# All 177 values are Nan\n",
    "# Now replace this nan value train_age"
   ]
  },
  {
   "cell_type": "code",
   "execution_count": 48,
   "id": "e3be3aac-aed7-4fb7-a788-c314994b8c00",
   "metadata": {},
   "outputs": [
    {
     "name": "stderr",
     "output_type": "stream",
     "text": [
      "/tmp/ipykernel_2792/4268069075.py:1: SettingWithCopyWarning: \n",
      "A value is trying to be set on a copy of a slice from a DataFrame\n",
      "\n",
      "See the caveats in the documentation: https://pandas.pydata.org/pandas-docs/stable/user_guide/indexing.html#returning-a-view-versus-a-copy\n",
      "  train['Age'][train['Age'].isnull()]=train_age\n"
     ]
    }
   ],
   "source": [
    "train['Age'][train['Age'].isnull()]=train_age"
   ]
  },
  {
   "cell_type": "code",
   "execution_count": 49,
   "id": "9934ffbe-210b-425f-add1-5c5a4b65d01f",
   "metadata": {},
   "outputs": [],
   "source": [
    "# This is not an error, It is showing a warning, bacically saying its seting a copy which   \n",
    "# which is not all dataframe \n",
    "# but its some part of the dataframe"
   ]
  },
  {
   "cell_type": "code",
   "execution_count": 50,
   "id": "2c54246f-c898-4ec4-9d2f-bd0c82856cff",
   "metadata": {},
   "outputs": [
    {
     "data": {
      "text/plain": [
       "PassengerId    0\n",
       "Survived       0\n",
       "Pclass         0\n",
       "Name           0\n",
       "Sex            0\n",
       "Age            0\n",
       "SibSp          0\n",
       "Parch          0\n",
       "Ticket         0\n",
       "Fare           0\n",
       "Embarked       0\n",
       "dtype: int64"
      ]
     },
     "execution_count": 50,
     "metadata": {},
     "output_type": "execute_result"
    }
   ],
   "source": [
    "train.isnull().sum() #To see oll the null value "
   ]
  },
  {
   "cell_type": "code",
   "execution_count": 51,
   "id": "4965a516-1ed0-46e3-8d81-300f51a70a8d",
   "metadata": {},
   "outputs": [
    {
     "name": "stderr",
     "output_type": "stream",
     "text": [
      "/tmp/ipykernel_2792/3484201817.py:1: SettingWithCopyWarning: \n",
      "A value is trying to be set on a copy of a slice from a DataFrame\n",
      "\n",
      "See the caveats in the documentation: https://pandas.pydata.org/pandas-docs/stable/user_guide/indexing.html#returning-a-view-versus-a-copy\n",
      "  test['Age'][test['Age'].isnull()]=test_age\n"
     ]
    }
   ],
   "source": [
    "test['Age'][test['Age'].isnull()]=test_age"
   ]
  },
  {
   "cell_type": "code",
   "execution_count": 52,
   "id": "ae4a4179-2260-4927-8ea7-e226b7cbd477",
   "metadata": {},
   "outputs": [
    {
     "data": {
      "text/plain": [
       "PassengerId    0\n",
       "Pclass         0\n",
       "Name           0\n",
       "Sex            0\n",
       "Age            0\n",
       "SibSp          0\n",
       "Parch          0\n",
       "Ticket         0\n",
       "Fare           0\n",
       "Embarked       0\n",
       "dtype: int64"
      ]
     },
     "execution_count": 52,
     "metadata": {},
     "output_type": "execute_result"
    }
   ],
   "source": [
    "test.isnull().sum()"
   ]
  },
  {
   "cell_type": "code",
   "execution_count": 53,
   "id": "d322734d-763e-43f7-a8b9-29a396f851eb",
   "metadata": {},
   "outputs": [],
   "source": [
    "# Above we see there is no missing value in any column in test or train dataset"
   ]
  },
  {
   "cell_type": "markdown",
   "id": "ad45fdd8-c5e0-482d-9dd2-e7730a6d9689",
   "metadata": {},
   "source": [
    "# Data analysis process:"
   ]
  },
  {
   "cell_type": "markdown",
   "id": "46bf276b-c506-4e61-b2ac-fb8845198be9",
   "metadata": {},
   "source": [
    "1 - Asking the right question"
   ]
  },
  {
   "cell_type": "markdown",
   "id": "6b079fa5-e9da-4a91-9789-95b779a7857e",
   "metadata": {},
   "source": [
    "2 - Data preprocessing"
   ]
  },
  {
   "cell_type": "markdown",
   "id": "b313d402-f79d-441b-8d2a-9bdc19ce036f",
   "metadata": {},
   "source": [
    "3 - Exploratory Data Analysis(EDA)"
   ]
  },
  {
   "cell_type": "markdown",
   "id": "a4af9bff-42a4-4564-ba18-16941e29c126",
   "metadata": {},
   "source": [
    "4 - Confine Conclusion"
   ]
  },
  {
   "cell_type": "markdown",
   "id": "e4e91439-f4fe-4411-81a3-326a63458fa9",
   "metadata": {},
   "source": [
    "5 - Convey Result"
   ]
  },
  {
   "cell_type": "markdown",
   "id": "f8f5eabb-5640-4904-ad48-0d334f614dee",
   "metadata": {},
   "source": [
    "## 1 & 2 stepe we have done"
   ]
  },
  {
   "cell_type": "markdown",
   "id": "c8464607-f0ec-45b0-b131-be48c7b0c946",
   "metadata": {},
   "source": [
    "## EDA"
   ]
  },
  {
   "cell_type": "code",
   "execution_count": null,
   "id": "052e132e-684b-44f0-a97e-b415957a0dcd",
   "metadata": {},
   "outputs": [],
   "source": []
  }
 ],
 "metadata": {
  "kernelspec": {
   "display_name": "Python 3 (ipykernel)",
   "language": "python",
   "name": "python3"
  },
  "language_info": {
   "codemirror_mode": {
    "name": "ipython",
    "version": 3
   },
   "file_extension": ".py",
   "mimetype": "text/x-python",
   "name": "python",
   "nbconvert_exporter": "python",
   "pygments_lexer": "ipython3",
   "version": "3.10.8"
  }
 },
 "nbformat": 4,
 "nbformat_minor": 5
}
